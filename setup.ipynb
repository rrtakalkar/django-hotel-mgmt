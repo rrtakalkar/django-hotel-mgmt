{
 "cells": [
  {
   "cell_type": "code",
   "execution_count": 1,
   "id": "37a22eb2-6097-4899-b79a-a713c96b1c4b",
   "metadata": {},
   "outputs": [
    {
     "name": "stdout",
     "output_type": "stream",
     "text": [
      "Package             Version\n",
      "------------------- ---------\n",
      "anyio               2.2.0\n",
      "argon2-cffi         20.1.0\n",
      "async-generator     1.10\n",
      "attrs               21.2.0\n",
      "Babel               2.9.1\n",
      "backcall            0.2.0\n",
      "bleach              4.0.0\n",
      "brotlipy            0.7.0\n",
      "certifi             2021.10.8\n",
      "cffi                1.15.0\n",
      "charset-normalizer  2.0.4\n",
      "colorama            0.4.4\n",
      "cryptography        36.0.0\n",
      "debugpy             1.5.1\n",
      "decorator           5.1.0\n",
      "defusedxml          0.7.1\n",
      "entrypoints         0.3\n",
      "idna                3.3\n",
      "importlib-metadata  4.8.2\n",
      "ipykernel           6.4.1\n",
      "ipython             7.29.0\n",
      "ipython-genutils    0.2.0\n",
      "jedi                0.18.0\n",
      "Jinja2              3.0.2\n",
      "json5               0.9.6\n",
      "jsonschema          3.2.0\n",
      "jupyter-client      7.0.6\n",
      "jupyter-core        4.9.1\n",
      "jupyter-server      1.4.1\n",
      "jupyterlab          3.2.1\n",
      "jupyterlab-pygments 0.1.2\n",
      "jupyterlab-server   2.8.2\n",
      "MarkupSafe          2.0.1\n",
      "matplotlib-inline   0.1.2\n",
      "mistune             0.8.4\n",
      "nbclassic           0.2.6\n",
      "nbclient            0.5.3\n",
      "nbconvert           6.1.0\n",
      "nbformat            5.1.3\n",
      "nest-asyncio        1.5.1\n",
      "notebook            6.4.6\n",
      "packaging           21.3\n",
      "pandocfilters       1.4.3\n",
      "parso               0.8.2\n",
      "pickleshare         0.7.5\n",
      "pip                 21.2.2\n",
      "prometheus-client   0.12.0\n",
      "prompt-toolkit      3.0.20\n",
      "pycparser           2.21\n",
      "Pygments            2.10.0\n",
      "pyOpenSSL           21.0.0\n",
      "pyparsing           3.0.4\n",
      "pyrsistent          0.18.0\n",
      "PySocks             1.7.1\n",
      "python-dateutil     2.8.2\n",
      "pytz                2021.3\n",
      "pywin32             228\n",
      "pywinpty            0.5.7\n",
      "pyzmq               22.3.0\n",
      "requests            2.26.0\n",
      "Send2Trash          1.8.0\n",
      "setuptools          58.0.4\n",
      "six                 1.16.0\n",
      "sniffio             1.2.0\n",
      "terminado           0.9.4\n",
      "testpath            0.5.0\n",
      "tornado             6.1\n",
      "traitlets           5.1.1\n",
      "urllib3             1.26.7\n",
      "wcwidth             0.2.5\n",
      "webencodings        0.5.1\n",
      "wheel               0.37.0\n",
      "win-inet-pton       1.1.0\n",
      "wincertstore        0.2\n",
      "zipp                3.6.0\n"
     ]
    }
   ],
   "source": [
    "!pip list"
   ]
  },
  {
   "cell_type": "code",
   "execution_count": 2,
   "id": "f0558381-16dd-431c-8a43-8d868b20d291",
   "metadata": {},
   "outputs": [
    {
     "name": "stdout",
     "output_type": "stream",
     "text": [
      "Collecting django\n",
      "  Downloading Django-4.0-py3-none-any.whl (8.0 MB)\n",
      "Collecting asgiref<4,>=3.4.1\n",
      "  Downloading asgiref-3.4.1-py3-none-any.whl (25 kB)\n",
      "Collecting sqlparse>=0.2.2\n",
      "  Downloading sqlparse-0.4.2-py3-none-any.whl (42 kB)\n",
      "Collecting tzdata\n",
      "  Downloading tzdata-2021.5-py2.py3-none-any.whl (339 kB)\n",
      "Collecting backports.zoneinfo\n",
      "  Downloading backports.zoneinfo-0.2.1-cp38-cp38-win_amd64.whl (38 kB)\n",
      "Installing collected packages: tzdata, sqlparse, backports.zoneinfo, asgiref, django\n",
      "Successfully installed asgiref-3.4.1 backports.zoneinfo-0.2.1 django-4.0 sqlparse-0.4.2 tzdata-2021.5\n"
     ]
    }
   ],
   "source": [
    "!pip install django"
   ]
  },
  {
   "cell_type": "code",
   "execution_count": 4,
   "id": "b5b746eb-d97e-45ba-8acb-792fad7ce382",
   "metadata": {},
   "outputs": [
    {
     "name": "stdout",
     "output_type": "stream",
     "text": [
      "4.0\n"
     ]
    }
   ],
   "source": [
    "!python -m django --version "
   ]
  },
  {
   "cell_type": "code",
   "execution_count": 5,
   "id": "ce7bad4d-a76e-4d17-a2c0-ea877065070b",
   "metadata": {},
   "outputs": [],
   "source": [
    "!django-admin startproject hotelmgmt"
   ]
  },
  {
   "cell_type": "code",
   "execution_count": null,
   "id": "b51ab75c-c182-476d-9cc6-557facbb4db6",
   "metadata": {},
   "outputs": [],
   "source": []
  }
 ],
 "metadata": {
  "kernelspec": {
   "display_name": "Python 3 (ipykernel)",
   "language": "python",
   "name": "python3"
  },
  "language_info": {
   "codemirror_mode": {
    "name": "ipython",
    "version": 3
   },
   "file_extension": ".py",
   "mimetype": "text/x-python",
   "name": "python",
   "nbconvert_exporter": "python",
   "pygments_lexer": "ipython3",
   "version": "3.8.12"
  }
 },
 "nbformat": 4,
 "nbformat_minor": 5
}
